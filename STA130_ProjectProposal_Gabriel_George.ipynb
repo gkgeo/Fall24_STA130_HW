{
 "cells": [
  {
   "cell_type": "markdown",
   "id": "99b53df5",
   "metadata": {},
   "source": [
    "# Gabriel George - STA130 Project Proposal"
   ]
  },
  {
   "cell_type": "markdown",
   "id": "d609fe51",
   "metadata": {},
   "source": [
    "# STA130 Project Proposal"
   ]
  },
  {
   "cell_type": "markdown",
   "id": "ecc613a1",
   "metadata": {},
   "source": [
    "## Analysis 1: Impact of Family Visits on Loneliness\n",
    "\n",
    "### Research Question\n",
    "Does the frequency of family visits affect individuals' loneliness scores?\n",
    "\n",
    "### Variables and Exploration Plan\n",
    "- Outcome: `LONELY_ucla_loneliness_scale_score` (3-9 scale) - chosen to measure social isolation\n",
    "- Predictor: `CONNECTION_activities_visited_family_p3m` - key indicator of family connection\n",
    "\n",
    "Visualization: Boxplot of loneliness scores across visit frequencies\n",
    "- Appropriate because it shows distribution of continuous outcome across categories and highlights central tendency and spread\n",
    "\n",
    "### Analysis Method\n",
    "Hypothesis test comparing mean loneliness between frequent (weekly or more) vs infrequent (monthly or less) visitors, with a confidence interval for the difference in means. A hypothesis test comparing means is chosen because we're comparing a numeric outcome (loneliness score) between two distinct groups of visitors, making it the most direct way to assess if visit frequency affects loneliness levels.\n",
    "\n",
    "Key assumptions:\n",
    "\n",
    "- Independent observations\n",
    "- Sample size large enough for normal approximation (will check group sizes)\n",
    "- Random sampling from population\n",
    "\n",
    "### Hypothesis and Expected Results\n",
    "H0: No difference in mean loneliness between frequent and infrequent visitors\n",
    "\n",
    "Ha: Frequent visitors have lower mean loneliness scores\n",
    "\n",
    "Expect frequent visitors to show 1-2 points lower average loneliness. Finding a clear difference would provide strong evidence that regular family visits help reduce loneliness - a simple but powerful message for social media campaigns encouraging family connection. Will relate findings back to real-world impact by discussing what a 1-2 point difference means in daily life."
   ]
  },
  {
   "cell_type": "markdown",
   "id": "178e5986",
   "metadata": {},
   "source": [
    "## Analysis 2: Social Support and Life Satisfaction\n",
    "\n",
    "### Research Question\n",
    "Is there a linear relationship between family social support scores and life satisfaction?\n",
    "\n",
    "### Variables and Exploration Plan\n",
    "- Outcome: `WELLNESS_life_satisfaction` (1-10 scale) - measures overall life contentment\n",
    "- Predictor: `PSYCH_zimet_multidimensional_social_support_family_subscale_score` - quantifies family support level\n",
    "\n",
    "Visualization: Scatterplot with regression line\n",
    "- Appropriate because it shows relationship between two continuous variables and helps assess linearity\n",
    "\n",
    "### Analysis Method\n",
    "Simple linear regression to understand how family support predicts life satisfaction:\n",
    "\n",
    "- Test if slope differs from zero\n",
    "- Calculate confidence interval for slope\n",
    "- Create scatterplot with regression line\n",
    "\n",
    "Key assumptions:\n",
    "\n",
    "- Linear relationship between variables\n",
    "- Independent observations\n",
    "- Random sampling from population\n",
    "\n",
    "Simple linear regression is most appropriate since we're examining how one numeric variable (support) predicts another numeric variable (satisfaction), allowing us to quantify both the direction and strength of their relationship.\n",
    "\n",
    "### Hypothesis and Expected Results\n",
    "H0: No relationship between family support and life satisfaction (slope = 0)\n",
    "\n",
    "Ha: Positive relationship exists (slope > 0)\n",
    "\n",
    "Expect that higher family support scores will predict higher life satisfaction. This would provide clear evidence that strengthening family bonds contributes to well-being. Results could suggest how much improvement in life satisfaction might be expected from increased family support - valuable for encouraging family connection."
   ]
  },
  {
   "cell_type": "markdown",
   "id": "a5ebc744",
   "metadata": {},
   "source": [
    "## Analysis 3: COVID Impact on Current Happiness\n",
    "\n",
    "### Research Question\n",
    "Is there a difference in current happiness scores between people who became more lonely during COVID versus those who experienced no change?\n",
    "### Variables and Exploration Plan\n",
    "- Outcome: `WELLNESS_subjective_happiness_scale_score` - measures current happiness level\n",
    "- Grouping: `LONELY_change_pre_covid` - compares \"Much more lonely\" vs \"About the same\" groups\n",
    "\n",
    "Visualization: Side-by-side boxplots\n",
    "- Appropriate because it shows distribution of happiness scores for each group and allows easy comparison of central tendencies\n",
    "\n",
    "### Analysis Method\n",
    "Hypothesis test comparing mean happiness scores between \"Much more lonely\" and \"About the same\" groups, with confidence interval for the difference.\n",
    "\n",
    "Key assumptions:\n",
    "\n",
    "- Independent observations\n",
    "- Sample size large enough for normal approximation\n",
    "- Random sampling from population\n",
    "\n",
    "A hypothesis test comparing means is selected because we're examining if there's a difference in numeric happiness scores between two distinct COVID impact groups, directly addressing our research question.\n",
    "\n",
    "### Hypothesis and Expected Results\n",
    "H0: No difference in mean happiness between groups\n",
    "\n",
    "Ha: \"Much more lonely\" group has lower mean happiness\n",
    "\n",
    "Expect lower happiness scores in the \"Much more lonely\" group, which would indicate lasting effects of COVID-related social isolation on well-being."
   ]
  }
 ],
 "metadata": {
  "kernelspec": {
   "display_name": "Python 3 (ipykernel)",
   "language": "python",
   "name": "python3"
  },
  "language_info": {
   "codemirror_mode": {
    "name": "ipython",
    "version": 3
   },
   "file_extension": ".py",
   "mimetype": "text/x-python",
   "name": "python",
   "nbconvert_exporter": "python",
   "pygments_lexer": "ipython3",
   "version": "3.11.6"
  }
 },
 "nbformat": 4,
 "nbformat_minor": 5
}
