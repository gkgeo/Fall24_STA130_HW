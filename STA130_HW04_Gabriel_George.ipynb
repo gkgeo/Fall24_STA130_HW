{
 "cells": [
  {
   "cell_type": "markdown",
   "id": "6321b22d",
   "metadata": {},
   "source": [
    "# STA130 HW04 - Gabriel George"
   ]
  },
  {
   "cell_type": "markdown",
   "id": "a63b7647",
   "metadata": {},
   "source": [
    "## Pre-lecture"
   ]
  },
  {
   "cell_type": "markdown",
   "id": "08905ef0",
   "metadata": {},
   "source": [
    "### 1 The \"Prelecture\" video (above) mentioned the \"standard error of the mean\" as being the \"standard deviation\" of the distribution bootstrapped means.  What is the difference between the \"standard error of the mean\" and the \"standard deviation\" of the original data? What hypothetical idea do each of these capture? Explain this concisely in your own words."
   ]
  },
  {
   "cell_type": "markdown",
   "id": "f03ab289",
   "metadata": {},
   "source": [
    "The standard deviation of the original data measures the spread or variability of individual data points in the sample. It captures how much each data point  deviates from the mean of the sample.\n",
    "\n",
    "The standard error of the mean estimates the variability of sample means if we were to repeat the experiment many times. It captures how much we expect the sample mean to vary from one sample to another.\n",
    "\n",
    "Simply: Single vs Multiple samples."
   ]
  },
  {
   "cell_type": "markdown",
   "id": "3cb5d251",
   "metadata": {},
   "source": [
    "### 2 The \"Prelecture\" video (above) suggested that the \"standard error of the mean\" could be used to create a confidence interval, but didn't describe exactly how to do this.  How can we use the \"standard error of the mean\" to create a 95% confidence interval which \"covers 95% of the bootstrapped sample means\"? Explain this concisely in your own words."
   ]
  },
  {
   "cell_type": "markdown",
   "id": "cd7d3fc5",
   "metadata": {},
   "source": [
    "We can use the standard error of the mean to create a confidence level by using the following equation: Confidence Interval = Sample Mean ± (1.96 * Standard Error of Mean)\n",
    "\n",
    "This interval covers approximately 95% of bootstrapped sample means because 1.96 standard deviations in a normal distribution containsabout 95% of the data."
   ]
  },
  {
   "cell_type": "markdown",
   "id": "67317cf0",
   "metadata": {},
   "source": [
    "### 3 Creating the \"sample mean plus and minus about 2 times the standard error\" confidence interval addressed in the previous problem should indeed cover approximately 95% of the bootstrapped sample means. Alternatively, how do we create a 95% bootstrapped confidence interval using the bootstrapped means (without using their standard deviation to estimate the standard error of the mean)? Explain this concisely in your own words."
   ]
  },
  {
   "cell_type": "markdown",
   "id": "a868e883",
   "metadata": {},
   "source": [
    "To create a 95% bootstrapped confidence interval directly from the bootstrapped means:\n",
    "\n",
    "- Generate many bootstrapped samples from our original data.\n",
    "- Calculate the mean for each bootstrapped sample.\n",
    "- Order these bootstrapped means from lowest to highest.\n",
    "- Find the 2.5th percentile and the 97.5th percentile of these ordered means.\n",
    "\n",
    "These two values form our 95% confidence interval."
   ]
  },
  {
   "cell_type": "markdown",
   "id": "7069a94f",
   "metadata": {},
   "source": [
    "### 4 The \"Prelecture\" video (above) mentioned that bootstrap confidence intervals could apply to other statistics of the sample, such as the \"median\". Work with a ChatBot to create code to produce a 95% bootstrap confidence interval for a population mean based on a sample that you have and comment the code to demonstrate how the code can be changed to produce a 95% bootstrap confidence interval for different population parameter (other than the population mean, such as the population median)."
   ]
  },
  {
   "cell_type": "code",
   "execution_count": 1,
   "id": "d871fc05",
   "metadata": {},
   "outputs": [
    {
     "name": "stdout",
     "output_type": "stream",
     "text": [
      "95% CI for mean: (9.701378179992679, 10.560421230907641)\n",
      "95% CI for median: (9.612718820169993, 10.65820634106458)\n",
      "95% CI for standard deviation: (1.8360139103422637, 2.5460577218327978)\n"
     ]
    }
   ],
   "source": [
    "import numpy as np\n",
    "\n",
    "def bootstrap_ci(data, num_bootstraps=10000, statistic=np.mean, confidence=0.95):\n",
    "    # Generate bootstrap samples\n",
    "    bootstrap_stats = []\n",
    "    for _ in range(num_bootstraps):\n",
    "        # Resample with replacement\n",
    "        resampled = np.random.choice(data, size=len(data), replace=True)\n",
    "        # Calculate the statistic (default is mean)\n",
    "        bootstrap_stats.append(statistic(resampled))\n",
    "    \n",
    "    # Calculate confidence interval\n",
    "    lower_percentile = (1 - confidence) / 2\n",
    "    upper_percentile = 1 - lower_percentile\n",
    "    ci_lower = np.percentile(bootstrap_stats, lower_percentile * 100)\n",
    "    ci_upper = np.percentile(bootstrap_stats, upper_percentile * 100)\n",
    "    \n",
    "    return (ci_lower, ci_upper)\n",
    "\n",
    "# Example usage\n",
    "sample_data = np.random.normal(loc=10, scale=2, size=100)\n",
    "\n",
    "# For mean (default)\n",
    "mean_ci = bootstrap_ci(sample_data)\n",
    "print(f\"95% CI for mean: {mean_ci}\")\n",
    "\n",
    "# To change to median, modify the statistic parameter\n",
    "median_ci = bootstrap_ci(sample_data, statistic=np.median)\n",
    "print(f\"95% CI for median: {median_ci}\")\n",
    "\n",
    "# You can use any function that returns a single value as the statistic\n",
    "# For example, to get CI for the standard deviation:\n",
    "std_ci = bootstrap_ci(sample_data, statistic=np.std)\n",
    "print(f\"95% CI for standard deviation: {std_ci}\")"
   ]
  },
  {
   "cell_type": "markdown",
   "id": "3a8c54af",
   "metadata": {
    "slideshow": {
     "slide_type": "slide"
    }
   },
   "source": [
    "I used a chatbot that was not able to provide links. Below is my summary:\n",
    "### Chatbot Summary\n",
    "\n",
    "Certainly. Here's a summary of our chat:\n",
    "\n",
    "We discussed the difference between the standard deviation of original data and the standard error of the mean. The standard deviation measures variability within a dataset, while the standard error of the mean estimates the precision of the sample mean as an estimate of the population mean.\n",
    "\n",
    "We explained how to create a 95% confidence interval using the standard error of the mean: Sample Mean ± (1.96 * Standard Error of Mean).\n",
    "\n",
    "We described the process of creating a 95% bootstrapped confidence interval without using the standard error, by generating bootstrapped samples and finding the 2.5th and 97.5th percentiles of the bootstrapped means.\n",
    "\n",
    "We provided a concise Python function for calculating bootstrap confidence intervals for various statistics (mean, median, standard deviation, etc.) and demonstrated its usage with example data.\n",
    "\n",
    "\n",
    "Throughout, we focused on providing clear, concise explanations and practical code examples to illustrate the concepts of bootstrapping and confidence intervals."
   ]
  },
  {
   "cell_type": "markdown",
   "id": "5aacbcf1",
   "metadata": {},
   "source": [
    "## Post-lecture"
   ]
  },
  {
   "cell_type": "markdown",
   "id": "8ecba092",
   "metadata": {},
   "source": [
    "### 5 The previous question addresses making a confidence interval for a population parameter based on a sample statistic. Why do we need to distinguish between the role of the popualation parameter and the sample sample statistic when it comes to confidence intervals? Explain this concisely in your own words."
   ]
  },
  {
   "cell_type": "markdown",
   "id": "a39d011a",
   "metadata": {},
   "source": [
    "The population parameter is the true value we're trying to estimate, like the actual average height of all adults in a country. This is hard to find as it's often impractical or impossible to measure everyone.\n",
    "\n",
    "The sample statistic is what we calculate from our sample data. For example, if we measure the heights of 100 randomly selected adults, the average of those 100 measurements is our sample statistic."
   ]
  },
  {
   "cell_type": "markdown",
   "id": "188b6ce1",
   "metadata": {},
   "source": [
    "### 6 Provide written answers to the following questions as if you were explaining them conversationally to a friend with little experience with statistics. (A) What is the process of bootstrapping? (B) What is the main purpose of bootstrapping? (C) If you had a (hypothesized) guess about what the average of a population was, and you had a sample of size n from that population, how could you use bootstrapping to assess whether or not your (hypothesized) guess might be plausible?"
   ]
  },
  {
   "cell_type": "markdown",
   "id": "8d70d4ca",
   "metadata": {},
   "source": [
    "#### A)\n",
    "Taking random samples with replacement in order to find the mean (total sum/count) of that sample. Then creating a graph of the means of all samples. \n",
    "\n",
    "Take original sample.\n",
    "\n",
    "Resample with replacement to create new samples of the same size.\n",
    "\n",
    "Calculate the statistic of interest for each new sample.\n",
    "\n",
    "Repeat many times (e.g., 10,000).\n",
    "\n",
    "\n",
    "#### B)\n",
    "The main purpose is be able to have a larger \"picture\" of what is happneing with the data when you are unable to get all the data of the whole poplulation. \n",
    "\n",
    "#### C)\n",
    "Create many bootstrap samples from your original sample.\n",
    "\n",
    "Calculate the statistic for each bootstrap sample.\n",
    "\n",
    "Construct a 95% confidence interval from these bootstrap statistics.\n",
    "\n",
    "If your guess falls within this interval, it's considered plausible.\n",
    "\n"
   ]
  },
  {
   "cell_type": "markdown",
   "id": "8f33c3ab",
   "metadata": {},
   "source": [
    "### 7 The \"Prelecture\" video (above) introduced hypothesis testing by saying that \"the confidence interval covers zero, so we cannot reject the hypothesis that the drug is **[on average]** not doing anything\".  This conclusion could be referred to as \"failing to reject the null hypothesis\", where the term \"null\" refers to the concept of \"no effect **[on average]**\".  Why does a confidence interval overlapping zero \"fail to reject the null hypothesis\" when the observed sample mean statistic itself is not zero? Alternatively, what would lead to the opposite conclusion in this context; namely, instead choosing \"to reject the null hypothesis\"? Explain the answers to these questions concisely in your own words."
   ]
  },
  {
   "cell_type": "markdown",
   "id": "579eaf2b",
   "metadata": {},
   "source": [
    "\n",
    "A confidence interval overlapping zero doesn't necessarily mean the sample mean is zero, but rather that zero is a plausible value for the true population mean, given our sample data. The key points are:\n",
    "\n",
    "1. The sample mean is just an estimate of the population mean and can be non-zero due to random sampling variation.\n",
    "\n",
    "2. The confidence interval provides a range of plausible values for the true population mean.\n",
    "\n",
    "3. If this range includes zero, we fail to reject the null hypothesis because a \"no effect\" scenario (zero mean) is still plausible.\n",
    "\n",
    "4. To reject the null hypothesis, the entire confidence interval must exclude zero. For example:\n",
    "   - CI of (arbitrary numbers, not relavent) (1 to 5) or (-5 to -1) would lead to rejecting the null hypothesis.\n",
    "   - CI of (-2 to 3) would fail to reject, even though the sample mean isn't zero.\n",
    "\n",
    "5. This approach helps distinguish between statistically significant effects and those that might be due to chance variation in sampling.\n",
    "\n",
    "We're looking at the range of plausible population means, not just the point estimate from our sample, to make decisions about the null hypothesis."
   ]
  },
  {
   "cell_type": "markdown",
   "id": "1e006bdb",
   "metadata": {},
   "source": [
    "### 8 Complete the following assignment. "
   ]
  },
  {
   "cell_type": "markdown",
   "id": "acbe3590",
   "metadata": {},
   "source": [
    "<details class=\"details-example\">\n",
    "    <summary style=\"color:blue\"><u>Question Information</u></summary>\n",
    "\n",
    " ##### The company AliTech has created a new vaccine that aims to improve the health of the people who take it. Your job is to use what you have learned in the course to give evidence for whether or not the vaccine is effective. \n",
    "\n",
    "##### Overview\n",
    "AliTech has released the following data.\n",
    "\n",
    "```csv\n",
    "PatientID,Age,Gender,InitialHealthScore,FinalHealthScore\n",
    "1,45,M,84,86\n",
    "2,34,F,78,86\n",
    "3,29,M,83,80\n",
    "4,52,F,81,86\n",
    "5,37,M,81,84\n",
    "6,41,F,80,86\n",
    "7,33,M,79,86\n",
    "8,48,F,85,82\n",
    "9,26,M,76,83\n",
    "10,39,F,83,84\n",
    "```\n",
    "\n",
    "#### Deliverables\n",
    "While you can choose how to approach this project, the most obvious path would be to follow the analysis presented in the \"Prelecture\" HW video (above). Nonetheless, we are  primarily interested in evaluating your report relative to the following deliverables.\n",
    "\n",
    "- A visual presentation giving some initial insight into the comparison of interest.\n",
    "- A quantitative analysis of the data and an explanation of the method and purpose of this method.\n",
    "- A conclusion regarding a null hypothesis of \"no effect\" after analyzing the data with your methodology.\n",
    "- The clarity of your documentation, code, and written report. \n",
    "\n",
    "> Consider organizing your report within the following outline template.\n",
    "> 1. Problem Introduction \n",
    ">     1. An explaination of the meaning of a Null Hypothesis of \"no effect\" in this context\n",
    ">     2. Data Visualization (motivating and illustrating the comparison of interest)\n",
    "> 2. Quantitative Analysis\n",
    ">     1. Methodology Code and Explanations\n",
    ">     2. Supporting Visualizations\n",
    "> 3. Findings and Discussion\n",
    ">     1. Conclusion regarding a Null Hypothesis of \"no effect\"\n",
    ">     2. Further Considerations\n",
    "\n",
    "##### Further Instructions:\n",
    "- When using random functions, you should make your analysis reproducible by using the `np.random.seed()` function\n",
    "- Create a CSV file and read that file in with your code, but **do not** include the CSV file along with your submission\n",
    "</details>"
   ]
  },
  {
   "cell_type": "markdown",
   "id": "bf23e83d",
   "metadata": {},
   "source": [
    "#### Null Hypothesis Explanation\n",
    "In the context of AliTech's new vaccine, the null hypothesis of \"no effect\" means that the vaccine does not significantly change patients' health scores. Mathematically, we can express this as:"
   ]
  },
  {
   "cell_type": "markdown",
   "id": "93516c4e",
   "metadata": {},
   "source": [
    "#### Data Visualization (below with statistics)"
   ]
  },
  {
   "cell_type": "code",
   "execution_count": 12,
   "id": "f04aa3e3",
   "metadata": {
    "scrolled": false
   },
   "outputs": [
    {
     "name": "stdout",
     "output_type": "stream",
     "text": [
      "1. Problem Introduction\n",
      "1.1 Null Hypothesis Explanation:\n",
      "The null hypothesis of 'no effect' in this context means that there is no significant difference\n",
      "between the initial health scores and the final health scores after administering the vaccine.\n",
      "In other words, the vaccine does not have a meaningful impact on patients' health scores.\n",
      "\n",
      "1.2 Data Visualization\n"
     ]
    },
    {
     "data": {
      "image/png": "[encoded data removed]",
      "text/plain": [
       "<Figure size 1000x600 with 1 Axes>"
      ]
     },
     "metadata": {},
     "output_type": "display_data"
    },
    {
     "name": "stdout",
     "output_type": "stream",
     "text": [
      "A scatter plot of Initial vs Final Health Scores has been displayed.\n",
      "This visualization helps illustrate the comparison between initial and final health scores.\n",
      "\n",
      "2. Quantitative Analysis\n",
      "2.1 Methodology Code and Explanations\n",
      "Paired t-test results:\n",
      "t-statistic: -2.5900615612703937\n",
      "p-value: 0.02921052381549256\n",
      "\n",
      "Explanation:\n",
      "We performed a paired t-test to compare the initial and final health scores.\n",
      "This test is appropriate because we have paired observations (before and after) for each patient.\n",
      "The null hypothesis is that the mean difference between paired observations is zero.\n",
      "\n"
     ]
    },
    {
     "data": {
      "image/png": "[encoded data removed]",
      "text/plain": [
       "<Figure size 1000x600 with 1 Axes>"
      ]
     },
     "metadata": {},
     "output_type": "display_data"
    },
    {
     "name": "stdout",
     "output_type": "stream",
     "text": [
      "2.2 Supporting Visualizations\n",
      "A histogram of Health Score Differences has been displayed.\n",
      "This visualization shows the distribution of changes in health scores after vaccination.\n",
      "\n",
      "3. Findings and Discussion\n",
      "3.1 Conclusion regarding Null Hypothesis\n",
      "The p-value (0.0292) is less than the significance level (0.05).\n",
      "We reject the null hypothesis.\n",
      "There is statistically significant evidence to suggest that the vaccine has an effect on health scores.\n",
      "\n",
      "3.2 Further Considerations\n",
      "- The sample size is relatively small (n=10), which may limit the generalizability of the results.\n",
      "- Other factors such as age or gender might influence the effectiveness of the vaccine.\n",
      "- A longer-term study might provide more insights into the vaccine's sustained effects.\n",
      "- Additional health metrics could be considered for a more comprehensive analysis.\n"
     ]
    }
   ],
   "source": [
    "import pandas as pd\n",
    "import matplotlib.pyplot as plt\n",
    "import seaborn as sns\n",
    "import numpy as np\n",
    "from scipy import stats\n",
    "from io import StringIO\n",
    "\n",
    "# Set random seed for reproducibility\n",
    "np.random.seed(42)\n",
    "\n",
    "# Data\n",
    "data_str = \"\"\"PatientID,Age,Gender,InitialHealthScore,FinalHealthScore\n",
    "1,45,M,84,86\n",
    "2,34,F,78,86\n",
    "3,29,M,83,80\n",
    "4,52,F,81,86\n",
    "5,37,M,81,84\n",
    "6,41,F,80,86\n",
    "7,33,M,79,86\n",
    "8,48,F,85,82\n",
    "9,26,M,76,83\n",
    "10,39,F,83,84\"\"\"\n",
    "\n",
    "# Load the data\n",
    "data = pd.read_csv(StringIO(data_str))\n",
    "\n",
    "# 1. Problem Introduction\n",
    "print(\"1. Problem Introduction\")\n",
    "print(\"1.1 Null Hypothesis Explanation:\")\n",
    "print(\"The null hypothesis of 'no effect' in this context means that there is no significant difference\")\n",
    "print(\"between the initial health scores and the final health scores after administering the vaccine.\")\n",
    "print(\"In other words, the vaccine does not have a meaningful impact on patients' health scores.\\n\")\n",
    "\n",
    "# 1.2 Data Visualization\n",
    "print(\"1.2 Data Visualization\")\n",
    "\n",
    "plt.figure(figsize=(10, 6))\n",
    "sns.scatterplot(x='InitialHealthScore', y='FinalHealthScore', hue='Gender', data=data)\n",
    "plt.title('Initial vs Final Health Scores')\n",
    "plt.show()\n",
    "\n",
    "print(\"A scatter plot of Initial vs Final Health Scores has been displayed.\")\n",
    "print(\"This visualization helps illustrate the comparison between initial and final health scores.\\n\")\n",
    "\n",
    "# 2. Quantitative Analysis\n",
    "print(\"2. Quantitative Analysis\")\n",
    "print(\"2.1 Methodology Code and Explanations\")\n",
    "\n",
    "# Calculate the difference in health scores\n",
    "data['HealthScoreDifference'] = data['FinalHealthScore'] - data['InitialHealthScore']\n",
    "\n",
    "# Perform paired t-test\n",
    "t_statistic, p_value = stats.ttest_rel(data['InitialHealthScore'], data['FinalHealthScore'])\n",
    "\n",
    "print(f\"Paired t-test results:\")\n",
    "print(f\"t-statistic: {t_statistic}\")\n",
    "print(f\"p-value: {p_value}\\n\")\n",
    "\n",
    "print(\"Explanation:\")\n",
    "print(\"We performed a paired t-test to compare the initial and final health scores.\")\n",
    "print(\"This test is appropriate because we have paired observations (before and after) for each patient.\")\n",
    "print(\"The null hypothesis is that the mean difference between paired observations is zero.\\n\")\n",
    "\n",
    "# 2.2 Supporting Visualizations\n",
    "plt.figure(figsize=(10, 6))\n",
    "sns.histplot(data['HealthScoreDifference'], kde=True)\n",
    "plt.title('Distribution of Health Score Differences')\n",
    "plt.xlabel('Health Score Difference (Final - Initial)')\n",
    "plt.show()\n",
    "plt.close()\n",
    "\n",
    "print(\"2.2 Supporting Visualizations\")\n",
    "print(\"A histogram of Health Score Differences has been displayed.\")\n",
    "print(\"This visualization shows the distribution of changes in health scores after vaccination.\\n\")\n",
    "\n",
    "# 3. Findings and Discussion\n",
    "print(\"3. Findings and Discussion\")\n",
    "print(\"3.1 Conclusion regarding Null Hypothesis\")\n",
    "\n",
    "alpha = 0.05\n",
    "if p_value < alpha:\n",
    "    print(f\"The p-value ({p_value:.4f}) is less than the significance level ({alpha}).\")\n",
    "    print(\"We reject the null hypothesis.\")\n",
    "    print(\"There is statistically significant evidence to suggest that the vaccine has an effect on health scores.\")\n",
    "else:\n",
    "    print(f\"The p-value ({p_value:.4f}) is greater than the significance level ({alpha}).\")\n",
    "    print(\"We fail to reject the null hypothesis.\")\n",
    "    print(\"There is not enough evidence to conclude that the vaccine has a significant effect on health scores.\")\n",
    "\n",
    "print(\"\\n3.2 Further Considerations\")\n",
    "print(\"- The sample size is relatively small (n=10), which may limit the generalizability of the results.\")\n",
    "print(\"- Other factors such as age or gender might influence the effectiveness of the vaccine.\")\n",
    "print(\"- A longer-term study might provide more insights into the vaccine's sustained effects.\")\n",
    "print(\"- Additional health metrics could be considered for a more comprehensive analysis.\")"
   ]
  },
  {
   "cell_type": "markdown",
   "id": "45b8b6be",
   "metadata": {},
   "source": [
    "#### 95% Confidence Interval "
   ]
  },
  {
   "cell_type": "code",
   "execution_count": 5,
   "id": "a46fbab3",
   "metadata": {
    "scrolled": false
   },
   "outputs": [
    {
     "data": {
      "image/png": "[encoded data removed]",
      "text/plain": [
       "<Figure size 1000x600 with 1 Axes>"
      ]
     },
     "metadata": {},
     "output_type": "display_data"
    },
    {
     "name": "stdout",
     "output_type": "stream",
     "text": [
      "\n",
      "Results:\n",
      "Observed mean difference: 3.30\n",
      "95% Confidence Interval: (0.90, 5.60)\n"
     ]
    }
   ],
   "source": [
    "import pandas as pd\n",
    "import numpy as np\n",
    "import matplotlib.pyplot as plt\n",
    "from scipy import stats\n",
    "from io import StringIO\n",
    "\n",
    "# Set random seed for reproducibility\n",
    "np.random.seed(42)\n",
    "\n",
    "# Data\n",
    "data_str = \"\"\"PatientID,Age,Gender,InitialHealthScore,FinalHealthScore\n",
    "1,45,M,84,86\n",
    "2,34,F,78,86\n",
    "3,29,M,83,80\n",
    "4,52,F,81,86\n",
    "5,37,M,81,84\n",
    "6,41,F,80,86\n",
    "7,33,M,79,86\n",
    "8,48,F,85,82\n",
    "9,26,M,76,83\n",
    "10,39,F,83,84\"\"\"\n",
    "\n",
    "# Load the data\n",
    "data = pd.read_csv(StringIO(data_str))\n",
    "\n",
    "# Calculate the mean difference\n",
    "mean_diff = np.mean(data['FinalHealthScore'] - data['InitialHealthScore'])\n",
    "\n",
    "# Bootstrapping function\n",
    "def bootstrap_mean_diff(data, num_bootstrap_samples=10000):\n",
    "    bootstrap_diffs = []\n",
    "    for _ in range(num_bootstrap_samples):\n",
    "        bootstrap_sample = data.sample(n=len(data), replace=True)\n",
    "        diff = np.mean(bootstrap_sample['FinalHealthScore'] - bootstrap_sample['InitialHealthScore'])\n",
    "        bootstrap_diffs.append(diff)\n",
    "    return bootstrap_diffs\n",
    "\n",
    "# Perform bootstrapping\n",
    "bootstrap_results = bootstrap_mean_diff(data)\n",
    "\n",
    "# Calculate 95% confidence interval\n",
    "ci_lower, ci_upper = np.percentile(bootstrap_results, [2.5, 97.5])\n",
    "\n",
    "# Create visualization\n",
    "plt.figure(figsize=(10, 6))\n",
    "plt.hist(bootstrap_results, bins=50, edgecolor='black')\n",
    "plt.axvline(ci_lower, color='r', linestyle='dashed', linewidth=2)\n",
    "plt.axvline(ci_upper, color='r', linestyle='dashed', linewidth=2)\n",
    "plt.axvline(mean_diff, color='g', linestyle='solid', linewidth=2)\n",
    "plt.title('Bootstrap Distribution of Mean Differences')\n",
    "plt.xlabel('Mean Difference (Final - Initial Health Score)')\n",
    "plt.ylabel('Frequency')\n",
    "plt.legend(['95% CI Lower', '95% CI Upper', 'Observed Mean Difference', 'Bootstrap Samples'])\n",
    "plt.show()\n",
    "plt.close()\n",
    "\n",
    "print(\"\\nResults:\")\n",
    "print(f\"Observed mean difference: {mean_diff:.2f}\")\n",
    "print(f\"95% Confidence Interval: ({ci_lower:.2f}, {ci_upper:.2f})\")\n"
   ]
  },
  {
   "cell_type": "markdown",
   "id": "6f7ea10f",
   "metadata": {},
   "source": [
    "#### AliTech Vaccine Effectiveness: Bootstrapping Analysis\n",
    "\n",
    "##### Methodology:\n",
    "We used bootstrapping to estimate the 95% confidence interval for the mean difference\n",
    "between final and initial health scores. This non-parametric method involves resampling\n",
    "the data with replacement to simulate multiple datasets and calculate the mean difference for each.\n",
    "\n",
    "##### Results:\n",
    "Observed mean difference: 3.30\n",
    "95% Confidence Interval: (0.90, 5.60)\n",
    "\n",
    "##### Interpretation:\n",
    "The 95% confidence interval for the mean difference in health scores is (0.90, 5.60).\n",
    "This means we can be 95% confident that the true population mean difference falls within this range.\n",
    "\n",
    "A visualization of the bootstrap distribution has been saved as 'bootstrap_distribution.png'.\n",
    "This graph shows the distribution of bootstrap sample means, with the 95% confidence\n",
    "interval marked by red dashed lines and the observed mean difference marked by a green solid line.\n",
    "\n",
    "##### Conclusion:\n",
    "The 95% confidence interval does not include zero and is entirely positive.\n",
    "This suggests strong evidence that the vaccine has a positive effect on health scores.\n",
    "The lower bound of the interval being above zero indicates that even in\n",
    "conservative estimates, the vaccine shows a positive impact.\n",
    "\n",
    "##### Further Considerations:\n",
    "- The bootstrap method relies on the assumption that our sample is representative of the population.\n",
    "- The small sample size (n=10) means that our confidence interval might be wider than it would be with a larger sample.\n",
    "- This analysis focuses solely on the mean difference and doesn't account for potential\n",
    "  confounding factors or individual variations in response to the vaccine.\n",
    "- A larger study with more participants would provide more reliable estimates and narrower confidence intervals.\n",
    "- The visualization provides an intuitive understanding of the uncertainty in our estimate."
   ]
  },
  {
   "cell_type": "markdown",
   "id": "56c6f382",
   "metadata": {},
   "source": [
    "### ChatBot Summary (not using ChatGPT.  I cannot get the chat link with this chatbot.\n",
    "\n",
    "Certainly! Let me summarize our conversation and the work we've done:\n",
    "\n",
    "1. Initial Analysis:\n",
    "   We started with a dataset from AliTech about their new vaccine's effect on health scores. We created a Python script to analyze this data, which included:\n",
    "   - Visualizing the data with a scatter plot and histogram\n",
    "   - Performing a paired t-test to compare initial and final health scores\n",
    "   - Providing a statistical interpretation of the results\n",
    "\n",
    "2. Improved Visualization:\n",
    "   We then improved the visualization by creating a more interpretable plot that combined:\n",
    "   - Box plots to show overall distribution\n",
    "   - Individual data points\n",
    "   - Lines connecting each patient's initial and final scores\n",
    "\n",
    "3. Markdown Report:\n",
    "   We modified the code to generate a structured markdown report instead of printing text. This report included:\n",
    "   - An explanation of the null hypothesis\n",
    "   - The improved data visualization\n",
    "   - Quantitative analysis results (t-test)\n",
    "   - Findings and discussion\n",
    "   - Further considerations\n",
    "\n",
    "4. Bootstrapping Analysis:\n",
    "   Finally, we created a separate analysis using bootstrapping to complement the t-test. This involved:\n",
    "   - Implementing a bootstrapping function to resample the data\n",
    "   - Calculating a 95% confidence interval for the mean difference in health scores\n",
    "   - Interpreting the results and drawing conclusions based on the confidence interval\n",
    "   - Initially formatting this as a markdown report, then modifying it to print the results directly\n",
    "\n",
    "Throughout this process, we focused on creating clear, interpretable results and adapting the output format based on your requests. We moved from basic statistical tests to more advanced techniques like bootstrapping, providing a comprehensive analysis of the vaccine's effectiveness.\n",
    "\n",
    "Is there any specific part of this process you'd like to revisit or discuss further?"
   ]
  },
  {
   "cell_type": "markdown",
   "id": "d81b1fb7",
   "metadata": {},
   "source": [
    "### 9 Have you reviewed the course [wiki-textbook](https://github.com/pointOfive/STA130_ChatGPT/wiki) and interacted with a ChatBot (or, if that wasn't sufficient, real people in the course piazza discussion board or TA office hours) to help you understand all the material in the tutorial and lecture that you didn't quite follow when you first saw it?"
   ]
  },
  {
   "cell_type": "markdown",
   "id": "38e56c51",
   "metadata": {},
   "source": [
    "Yes."
   ]
  }
 ],
 "metadata": {
  "kernelspec": {
   "display_name": "Python 3 (ipykernel)",
   "language": "python",
   "name": "python3"
  },
  "language_info": {
   "codemirror_mode": {
    "name": "ipython",
    "version": 3
   },
   "file_extension": ".py",
   "mimetype": "text/x-python",
   "name": "python",
   "nbconvert_exporter": "python",
   "pygments_lexer": "ipython3",
   "version": "3.11.6"
  }
 },
 "nbformat": 4,
 "nbformat_minor": 5
}
