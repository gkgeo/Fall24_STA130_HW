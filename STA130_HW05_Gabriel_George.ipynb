{
 "cells": [
  {
   "cell_type": "markdown",
   "id": "4357e46f",
   "metadata": {},
   "source": [
    "# STA130 HW05 - Gabriel George (not using ChatGPT, cannot get chat link)"
   ]
  },
  {
   "cell_type": "markdown",
   "id": "a6a0f83e",
   "metadata": {},
   "source": [
    "## Pre-lecture"
   ]
  },
  {
   "cell_type": "markdown",
   "id": "f7bda743",
   "metadata": {},
   "source": [
    "Watch these:https://www.youtube.com/watch?v=ZzeXCKd5a18\n",
    "    https://www.youtube.com/watch?v=9jW9G8MO4PQ"
   ]
  },
  {
   "cell_type": "markdown",
   "id": "c3a7c6c2",
   "metadata": {},
   "source": [
    "### 1. The \"first pre-lecture video\" (above) describes hypothesis testing as addressing \"an idea that can be tested\", and the end of the video then discusses what our actual intended purpose in setting up a null hypothesis is. What is the key factor that makes the difference between ideas that can, and cannot be examined and tested statistically?  What would you describe is the key \"criteria\" defining what a good null hypothesis is? And what is the difference between a null hypothesis and an alternative hypothesis in the context of hypothesis testing? Answer these questions with concise explanations in your own words."
   ]
  },
  {
   "cell_type": "markdown",
   "id": "d21c0387",
   "metadata": {},
   "source": [
    "The key factor for statistically testable ideas is quantifiability. Data must be numerical or countable.\n",
    "\n",
    "\n",
    "A good null hypothesis is specific, testable, and assumes no effect or relationship. It represents the status quo.\n",
    "\n",
    "\n",
    "The null hypothesis assumes no effect, while the alternative proposes a significant relationship between variables or difference between groups."
   ]
  },
  {
   "cell_type": "markdown",
   "id": "0e1d488e",
   "metadata": {},
   "source": [
    "### 2. Towards the end of the \"first pre-lecture\" video (above) it is stated that, \"It is important to note that outcomes of tests refer to the population parameter, rather than the sample statistic! As such, the result that we get is for the population.\" In terms of the distinctions between the concepts of $x_i\\!$'s, $\\bar x$, $\\mu$, and $\\mu_0$, how would you describe what the sentence above means? Explain this concisely in your own words for a \"non-statsitical\" audience, defining the technical statistical terminology you use in your answer."
   ]
  },
  {
   "cell_type": "markdown",
   "id": "a3bddd46",
   "metadata": {},
   "source": [
    "In hypothesis testing, we use sample statistics to infer population parameters. We have information about our sample but aim to understand the entire population. That's why results are interpreted for the population, not just the sample.\n",
    "Key concepts:\n",
    "\n",
    "$x_i$: Individual data points (e.g., each person's height)\n",
    "\n",
    "$\\bar{x}$: Sample mean (average of sampled heights)\n",
    "\n",
    "$\\mu$: True population mean (average height of all Canadians)\n",
    "\n",
    "$\\mu_0$: Hypothesized population mean (our guess about average Canadian height)\n",
    "\n",
    "___\n",
    "\n",
    "Population: All possible data points (e.g., heights of all Canadians)\n",
    "\n",
    "Sample: Subset of population measured\n",
    "\n",
    "Sample statistic: Value calculated from sample data (e.g., $\\bar{x}$)\n",
    "\n",
    "Population parameter: Value describing entire population (e.g., $\\mu$)\n",
    "\n",
    "Example: Suppose we want to know the average height of all Canadians. Measuring every Canadian's height (population) is impractical due to time, cost, and logistics. Instead, we might measure 1000 randomly selected Canadians (sample). We use this sample's average height ($\\bar{x}$) to estimate the true average height of all Canadians ($\\mu$).\n",
    "\n",
    "This approach allows us to draw conclusions about the population based on a smaller, manageable sample, overcoming the challenges of collecting data from an entire population."
   ]
  },
  {
   "cell_type": "markdown",
   "id": "6cc8e14d",
   "metadata": {},
   "source": [
    "### 3. The second \"Pre-lecture\" video (above) explains that we \"imagine a world where the null hypothesis is true\" when calculating a p-value? Explain why this is in your own words in a way that makes the most sense to you."
   ]
  },
  {
   "cell_type": "markdown",
   "id": "151af413",
   "metadata": {},
   "source": [
    "This is because it allows us to construct the sampling distribution of the test statistic under the null hypothesis. This approach is crucial because:\n",
    "\n",
    "1. Sampling distribution: It provides the expected distribution of the test statistic if the null hypothesis were true in the population.\n",
    "\n",
    "2. Reference point: This distribution serves as a baseline to compare our observed test statistic against.\n",
    "\n",
    "3. Probability calculation: We can determine how extreme our observed result is by seeing where it falls in this null distribution.\n",
    "\n",
    "4. P-value interpretation: The p-value is the probability of obtaining a result at least as extreme as ours in this null distribution.\n",
    "\n",
    "5. Evidence quantification: A small p-value indicates that our observed result is unlikely under the null hypothesis, providing evidence against it.\n",
    "\n",
    "By constructing this null sampling distribution, we can objectively assess the compatibility of our data with the null hypothesis, enabling rigorous statistical inference and decision-making."
   ]
  },
  {
   "cell_type": "markdown",
   "id": "be5e0c1a",
   "metadata": {},
   "source": [
    "### 4. The second \"Pre-lecture\" video (above) describes suggest that a smaller p-value makes the null hypothesis look more ridiculous. Explain why this is in your own words in a way that makes the most sense to you, clarifying the meaning of any technical statistical terminology you use in your answer."
   ]
  },
  {
   "cell_type": "markdown",
   "id": "86d89cef",
   "metadata": {},
   "source": [
    "A smaller p-value makes the null hypothesis look more ridiculous because:\n",
    "\n",
    "1. Sampling distribution: This is the theoretical distribution of a statistic (like a mean or proportion) if we were to repeat our experiment many times under the null hypothesis. It shows us what results we'd expect if the null were true.\n",
    "\n",
    "2. Test statistic: This is a number calculated from our sample data that we use to make decisions about the null hypothesis. For example, it could be a t-statistic or z-score.\n",
    "\n",
    "3. Relative position: A smaller p-value indicates our observed test statistic is further out in the \"tail\" (extreme end) of the null sampling distribution.\n",
    "\n",
    "4. P-value: The probability of getting a test statistic as extreme as, or more extreme than, the one we observed, if the null hypothesis were actually true.\n",
    "\n",
    "5. Rarity under null: A very small p-value means our result would be highly unusual if the null hypothesis were correct.\n",
    "\n",
    "6. Logical implication: As the p-value decreases, it becomes harder to believe that the null hypothesis could be true given our data.\n",
    "\n",
    "In simpler terms, a smaller p-value suggests our result is so unexpected under the null hypothesis that it makes this hypothesis seem implausible or \"ridiculous\". It's like claiming it never rains in Toronto, then immediately seeing a heavy downpour - the evidence (our data) makes the claim (null hypothesis) look increasingly absurd."
   ]
  },
  {
   "cell_type": "markdown",
   "id": "012ec50e",
   "metadata": {},
   "source": [
    "### 5. Güntürkün (2003) recorded how kissing couples tilt their heads. 80 out of 124 couples, or 64.5% tilted their heads to the right. Simulate a **p-value** using a \"50/50 coin-flipping\" model for the assumption of the **null hypothesis** $H_0$ that the population of humans don't have left or right head tilt tendencies when kissing, and use the table below to determine the level of evidence we have against $H_0$. "
   ]
  },
  {
   "cell_type": "code",
   "execution_count": 5,
   "id": "5e4bb233",
   "metadata": {},
   "outputs": [
    {
     "name": "stdout",
     "output_type": "stream",
     "text": [
      "Simulated p-value: 0.000660\n",
      "Interpretation: Very strong evidence against the null hypothesis\n"
     ]
    }
   ],
   "source": [
    "import numpy as np\n",
    "\n",
    "def simulate_kisses(n_couples, n_simulations):\n",
    "    observed_right_tilts = 80\n",
    "    p_values = 0\n",
    "\n",
    "    for _ in range(n_simulations):\n",
    "        simulated_tilts = np.random.binomial(n=1, p=0.5, size=n_couples)\n",
    "        simulated_right_tilts = np.sum(simulated_tilts)\n",
    "        if simulated_right_tilts >= observed_right_tilts:\n",
    "            p_values += 1\n",
    "\n",
    "    return p_values / n_simulations\n",
    "\n",
    "# Set up the simulation\n",
    "n_couples = 124\n",
    "n_simulations = 100000\n",
    "\n",
    "# Run the simulation\n",
    "p_value = simulate_kisses(n_couples, n_simulations)\n",
    "\n",
    "print(f\"Simulated p-value: {p_value:.6f}\")\n",
    "\n",
    "# Interpret the result\n",
    "if p_value > 0.1:\n",
    "    evidence = \"No evidence against\"\n",
    "elif p_value > 0.05:\n",
    "    evidence = \"Weak evidence against\"\n",
    "elif p_value > 0.01:\n",
    "    evidence = \"Moderate evidence against\"\n",
    "elif p_value > 0.001:\n",
    "    evidence = \"Strong evidence against\"\n",
    "else:\n",
    "    evidence = \"Very strong evidence against\"\n",
    "\n",
    "print(f\"Interpretation: {evidence} the null hypothesis\")"
   ]
  },
  {
   "cell_type": "markdown",
   "id": "3700c31c",
   "metadata": {},
   "source": [
    "### ChatBot Summary \n",
    "I did not use chatgpt and the bot I used does not allow for links to share the chat. Here is the chat summary:\n",
    "\n",
    "We've discussed several key concepts in statistical hypothesis testing:\n",
    "\n",
    "1. Null hypothesis testing and p-values:\n",
    "   - We \"imagine a world where the null hypothesis is true\" to create a baseline for comparison.\n",
    "   - This allows us to construct the sampling distribution of the test statistic under the null hypothesis.\n",
    "   - The p-value is calculated based on how extreme our observed result is in this distribution.\n",
    "\n",
    "2. Interpretation of p-values:\n",
    "   - Smaller p-values indicate stronger evidence against the null hypothesis.\n",
    "   - They suggest that our observed data is unlikely if the null hypothesis were true.\n",
    "\n",
    "3. Sampling distributions and test statistics:\n",
    "   - The sampling distribution shows the expected spread of a statistic if we repeated our experiment many times under the null hypothesis.\n",
    "   - Our observed test statistic is compared to this distribution to assess how unusual our result is.\n",
    "\n",
    "4. Simulation methods:\n",
    "   - We examined code for simulating p-values in the context of a study on kissing couples' head-tilting preferences.\n",
    "   - This demonstrated how to practically apply these concepts to real-world data.\n",
    "\n",
    "5. Interpretation of results:\n",
    "   - We discussed how to categorize the strength of evidence against the null hypothesis based on p-value thresholds.\n",
    "\n",
    "Throughout, we emphasized the importance of understanding these concepts intuitively, as well as their technical definitions, to grasp the logic behind statistical hypothesis testing."
   ]
  },
  {
   "cell_type": "markdown",
   "id": "ce5c5f94",
   "metadata": {},
   "source": [
    "## Post-lecture"
   ]
  },
  {
   "cell_type": "markdown",
   "id": "ad2b6401",
   "metadata": {},
   "source": [
    "### 6. Can a smaller p-value definitively prove that the null hypothesis is false? Is it possible to definitively prove that Fido (from the \"second pre-lecture video\") is innocent using a p-value? Is it possible to difinitively prove that Fido is guilty using a p-value? How low or high does a p-value have to be to definitely prove one or the other? Explain this concisely in your own words."
   ]
  },
  {
   "cell_type": "markdown",
   "id": "a4f05043",
   "metadata": {},
   "source": [
    "No, a smaller p-value cannot definitively prove the null hypothesis is false. It only indicates stronger evidence against it.\n",
    "\n",
    "We cannot definitively prove Fido's innocence or guilt using a p-value. P-values provide a measure of evidence against the null hypothesis, but they do not prove hypotheses true or false with certainty.\n",
    "\n",
    "There is no p-value threshold that definitely proves innocence or guilt. Even very small p-values (e.g. 0.0001) only suggest strong evidence against the null hypothesis, not absolute proof. Similarly, large p-values don't prove the null hypothesis true.\n",
    "\n",
    "P-values help assess the strength of evidence, but don't provide definitive proof in either direction. They're tools for statistical inference, not absolute determinants of truth."
   ]
  },
  {
   "cell_type": "markdown",
   "id": "a9e63028",
   "metadata": {},
   "source": [
    "### 7. In the second half of the \"first pre-lecture video\" the concept of a \"one sided\" (or \"one tailed\") test is introduced in contrast to a \"two sided\" (or \"two tailed\") test. Work with a ChatBot to adjust the code from \"Demo II of  the Week 5 TUT\" (which revisits the \"Vaccine Data Analysis Assignment\" from Week 04 HW \"Question 8\") in order to compute a p-value for a \"one sided\" (or \"one tailed\") hypothesis test rather than the \"two sided\" (or \"two tailed\") version it provides. Describe (perhaps with the help of your ChatBot) what changed in the code; how this changes the interpretation of the hypothesis test; and whether or not we should indeed expect the p-value to be smaller in the \"one tailed\" versus \"two tailed\" analysis."
   ]
  },
  {
   "cell_type": "code",
   "execution_count": 3,
   "id": "9f9ccc8f",
   "metadata": {},
   "outputs": [
    {
     "name": "stdout",
     "output_type": "stream",
     "text": [
      "Observed statistic: 0.8\n",
      "One-sided p-value: 0.0565\n"
     ]
    }
   ],
   "source": [
    "import numpy as np\n",
    "import pandas as pd\n",
    "\n",
    "# Load the data\n",
    "patient_data = pd.DataFrame({\n",
    "    \"PatientID\": [1, 2, 3, 4, 5, 6, 7, 8, 9, 10],\n",
    "    \"HealthScoreChange\": [2, 8, -3, 5, 3, 6, 7, -3, 7, 1]\n",
    "})\n",
    "\n",
    "# Calculate the observed statistic\n",
    "observed_statistic = (patient_data.HealthScoreChange > 0).mean()\n",
    "\n",
    "# Set up the simulation\n",
    "np.random.seed(1)\n",
    "number_of_simulations = 10000\n",
    "n_size = len(patient_data)\n",
    "population_parameter_value_under_H0 = 0.5\n",
    "\n",
    "# Simulate the sampling distribution under H0\n",
    "simulated_statistics = np.random.choice([0, 1], size=(number_of_simulations, n_size)).mean(axis=1)\n",
    "\n",
    "# Calculate the one-sided p-value\n",
    "p_value_one_sided = (simulated_statistics >= observed_statistic).mean()\n",
    "\n",
    "print(f\"Observed statistic: {observed_statistic}\")\n",
    "print(f\"One-sided p-value: {p_value_one_sided}\")"
   ]
  },
  {
   "cell_type": "markdown",
   "id": "ba7e44eb",
   "metadata": {},
   "source": [
    "### ChatBot Explanation\n",
    "\n",
    "Now, let me explain the changes and their implications:\n",
    "\n",
    "Code changes:\n",
    "\n",
    "The main change is in the calculation of the p-value. Instead of using the absolute difference from 0.5, we now only count simulated statistics that are greater than or equal to the observed statistic.\n",
    "The line p_value_one_sided = (simulated_statistics >= observed_statistic).mean() replaces the previous two-sided calculation.\n",
    "\n",
    "\n",
    "Interpretation changes:\n",
    "\n",
    "In the two-sided test, we were testing if there was any difference between the proportion of improved patients and 0.5 (no effect).\n",
    "In this one-sided test, we're specifically testing if the proportion of improved patients is greater than 0.5.\n",
    "The null hypothesis is now \"The chance the vaccine improves patient health is less than or equal to 50%\".\n",
    "The alternative hypothesis is \"The chance the vaccine improves patient health is greater than 50%\".\n",
    "\n",
    "\n",
    "P-value expectation:\n",
    "\n",
    "We should expect the p-value in the one-tailed test to be approximately half of the two-tailed p-value, assuming the observed effect is in the direction specified by the alternative hypothesis.\n",
    "This is because the one-tailed test concentrates all the rejection region on one side of the distribution, while the two-tailed test splits it between both tails.\n",
    "However, if the observed effect is in the opposite direction of the alternative hypothesis, the one-tailed p-value could be much larger than the two-tailed p-value.\n",
    "\n",
    "\n",
    "\n",
    "In this case, since we're testing if the vaccine increases the chance of improvement, the one-tailed test is more appropriate if we have a prior reason to believe that vaccination can only increase (not decrease) the chance of improvement. However, if we're open to the possibility that vaccination could either increase or decrease the chance of improvement, a two-tailed test would be more appropriate.\n",
    "The one-tailed test will generally have more power to detect an effect in the hypothesized direction, but at the cost of not being able to detect effects in the opposite direction. The choice between one-tailed and two-tailed tests should be made based on the research question and prior knowledge, not on which gives a smaller p-value."
   ]
  },
  {
   "cell_type": "markdown",
   "id": "469ed260",
   "metadata": {},
   "source": [
    "### 8. Complete the following assignment. \n",
    "\n",
    "<details class=\"details-example\"><summary style=\"color:blue\"><u>(Instruction)</u></summary>\n",
    "\n",
    "**Overview**\n",
    "\n",
    "A most beloved piece of [statistical lore](https://rss.onlinelibrary.wiley.com/doi/full/10.1111/j.1740-9713.2012.00620.x) about the (most famous) statistician Ronald Fisher involves cups of tea with milk. Fisher and his friend and colleague, Dr. Muriel Bristol, worked at Cambridge in the 1920s and regularly had tea together. During one of their afternoon tea times, Bristol refused a cup of tea from Fisher because he put milk in first BEFORE pouring in the tea. Bristol said she could taste the difference, and much preferred the taste of tea when the milk was poured in afterward the tea. Fisher didn't think that there could be a difference and proposed a hypothesis test to examine the situation.\n",
    "\n",
    "Fisher made 8 cups of tea, 4 with milk added in first and 4 with tea added in first, and gave them to Dr. Bristol without her seeing how they were made and she would say if she thought the tea or the milk was poured first. As it turned out, Bristol correctly identified if the tea or milk was poured first for all 8 of the cups. Fisher, being a skeptical statistician wanted to test if this could be happening by chance with Bristol just randomly guessing (or whether there was evidence against an assumption of Bristol just randomly guessing), and subsequently designed a statistical hypothesis test to do so.\n",
    "\n",
    "Suppose you run an experiment like this with students in STA130. You get a random sample of 80 STA130 students to each taste one cup of tea and tell you whether they think the milk or tea was poured first. **Suppose 49 students are able to correctly state which was poured first.** Provide a statistical analysis of this experiment as guided through the following set of questions.\n",
    "\n",
    "**Data**\n",
    "\n",
    "49 out of a sample of 80 students are able to correctly state which was poured first.\n",
    "\n",
    "**Deliverables**\n",
    "\n",
    "While you can choose how to approach the project, we are interested in evaluating your report relative to the following deliverables: \n",
    "- Clarity of your documentation, code, and written report \n",
    "- Description of the population (and sample) and parameter of interest (and corresponding observed test statistic) \n",
    "- Formal null hypotheses $H_0$ \n",
    "    - Provide a formal version $H_0$ based on the population parameter \n",
    "    - Provide an informal interpretive statement explaining $H_0$ in more casual everyday common language\n",
    "    - Alternative hypothesis $H_A$ in terms of $H_0$\n",
    "- Quantitative analysis addressing the validity of $H_0$\n",
    "    - Explanation of the method clearly articulating the purpose of the usage of statistic(s) to address $H_0$ the population parameter of interest \n",
    "\n",
    "\n",
    "**Comments**\n",
    "\n",
    "- Regarding the population (and the sample), there is a clear difference between the experiment with STA130 students considered here and the original motivating experimental context of Fisher and Bristol.\n",
    "    - the sample size is different.\n",
    "    - but so too is the nature of the population. the parameter in question might be considered more personalized in the original experiment; whereas, the parameter in the context of STA130 students might be a more abstract concept\n",
    "- The analysis here could be approached from the perspective of formal hypothesis testing.\n",
    "    - which would likely involve the simulation of a sampling distribution under $H_0$ in order to estimate p-value with respect to the null hypothesis based on the observed test statistic (how?), concluding with the assement of $H_0$ based on an interpretation of the meaning of the p-value relative to $H_0$\n",
    "    - but a confidence interval approach to considering the hypothesis could also be considered.\n",
    "\n",
    "> Consider organizing your report within the following outline template.\n",
    "> - Problem Introduction \n",
    ">     - Relationship between this experiment and the original with Fisher and Bristol\n",
    ">     - Statements of the Null Hypothesis and Alternative hypothesis\n",
    "> - Quantitative Analysis\n",
    ">     - Methodology Code and Explanations\n",
    ">     - *(if needed/optional)* Supporting Visualizations \n",
    "> - Findings and Discussion\n",
    ">     - Conclusion regarding the Null Hypothesis\n",
    "\n",
    "#### Further Instructions:\n",
    "- When using random functions, you should make your analysis reproducible by using the `np.random.seed()` function\n",
    "\n",
    "</details>"
   ]
  },
  {
   "cell_type": "markdown",
   "id": "b631c3a6",
   "metadata": {},
   "source": [
    "1. Problem Introduction\n",
    "\n",
    "Relationship between this experiment and the original with Fisher and Bristol:\n",
    "- The core concept remains the same: testing the ability to distinguish between tea prepared with milk first versus tea first.\n",
    "- Key differences:\n",
    "  a) Sample size: 80 STA130 students vs. 8 cups for Dr. Bristol\n",
    "  b) Population: General STA130 students vs. a specific individual (Dr. Bristol)\n",
    "  c) Parameter: Proportion of all STA130 students who can correctly identify the pouring order, rather than an individual's ability\n",
    "\n",
    "Statements of the Null Hypothesis and Alternative hypothesis:\n",
    "\n",
    "Let p = true proportion of STA130 students who can correctly identify whether milk or tea was poured first\n",
    "\n",
    "Null Hypothesis (H₀):\n",
    "- Formal: H₀: p = 0.5\n",
    "- Informal: STA130 students are just guessing randomly (50% chance of being correct)\n",
    "\n",
    "Alternative Hypothesis (Hₐ):\n",
    "- Formal: Hₐ: p > 0.5\n",
    "- Informal: STA130 students can identify the pouring order better than random guessing\n",
    "\n",
    "2. Quantitative Analysis\n",
    "\n",
    "Let's use Python to perform our analysis. We'll use a simulation-based approach to estimate the p-value and create supporting visualizations."
   ]
  },
  {
   "cell_type": "code",
   "execution_count": 4,
   "id": "836289e8",
   "metadata": {},
   "outputs": [
    {
     "name": "stdout",
     "output_type": "stream",
     "text": [
      "Observed proportion: 0.613\n",
      "P-value: 0.0298\n",
      "95% Confidence Interval: (0.500, 0.713)\n"
     ]
    }
   ],
   "source": [
    "import numpy as np\n",
    "import matplotlib.pyplot as plt\n",
    "from scipy import stats\n",
    "\n",
    "# Set random seed for reproducibility\n",
    "np.random.seed(130)\n",
    "\n",
    "# Observed data\n",
    "n = 80  # sample size\n",
    "x = 49  # number of correct guesses\n",
    "\n",
    "# Observed test statistic\n",
    "observed_prop = x / n\n",
    "\n",
    "# Simulation parameters\n",
    "num_simulations = 10000\n",
    "\n",
    "# Simulate under the null hypothesis\n",
    "simulated_props = np.random.binomial(n, 0.5, num_simulations) / n\n",
    "\n",
    "# Calculate p-value\n",
    "p_value = np.mean(simulated_props >= observed_prop)\n",
    "\n",
    "# Plot the sampling distribution\n",
    "plt.figure(figsize=(10, 6))\n",
    "plt.hist(simulated_props, bins=30, edgecolor='black', alpha=0.7)\n",
    "plt.axvline(observed_prop, color='red', linestyle='dashed', linewidth=2)\n",
    "plt.title(\"Sampling Distribution under Null Hypothesis\")\n",
    "plt.xlabel(\"Proportion of Correct Guesses\")\n",
    "plt.ylabel(\"Frequency\")\n",
    "plt.text(observed_prop, plt.ylim()[1], f'Observed\\n{observed_prop:.3f}', \n",
    "         horizontalalignment='center', verticalalignment='top')\n",
    "plt.savefig('sampling_distribution.png')\n",
    "plt.close()\n",
    "\n",
    "# Calculate 95% confidence interval\n",
    "ci = stats.binom.interval(0.95, n, observed_prop) \n",
    "ci_lower, ci_upper = ci[0]/n, ci[1]/n\n",
    "\n",
    "print(f\"Observed proportion: {observed_prop:.3f}\")\n",
    "print(f\"P-value: {p_value:.4f}\")\n",
    "print(f\"95% Confidence Interval: ({ci_lower:.3f}, {ci_upper:.3f})\")\n",
    "\n",
    "# Plot confidence interval\n",
    "plt.figure(figsize=(10, 6))\n",
    "plt.axvline(0.5, color='gray', linestyle='--', label='Null Hypothesis (p=0.5)')\n",
    "plt.plot(observed_prop, 1, 'ro', markersize=10, label='Observed Proportion')\n",
    "plt.hlines(y=1, xmin=ci_lower, xmax=ci_upper, color='r', linewidth=2)\n",
    "plt.title(\"95% Confidence Interval for Population Proportion\")\n",
    "plt.xlabel(\"Proportion\")\n",
    "plt.yticks([])\n",
    "plt.legend()\n",
    "plt.savefig('confidence_interval.png')\n",
    "plt.close()"
   ]
  },
  {
   "cell_type": "markdown",
   "id": "67ef93fb",
   "metadata": {},
   "source": [
    "\n",
    "Methodology Explanation:\n",
    "1. We use a simulation-based approach to estimate the p-value under the null hypothesis.\n",
    "2. We simulate 10,000 experiments where students are guessing randomly (p = 0.5).\n",
    "3. We calculate the proportion of simulated experiments that show results as extreme as or more extreme than our observed data.\n",
    "4. We also calculate a 95% confidence interval for the true population proportion.\n",
    "5. We create two visualizations:\n",
    "   a) A histogram of the sampling distribution under the null hypothesis\n",
    "   b) A plot showing the observed proportion and its confidence interval relative to the null hypothesis\n",
    "\n",
    "3. Findings and Discussion\n",
    "\n",
    "Results:\n",
    "- Observed proportion: 0.613\n",
    "- P-value: 0.0298\n",
    "- 95% Confidence Interval: (0.500, 0.713)\n",
    "\n",
    "Interpretation:\n",
    "\n",
    "1. Observed Proportion:\n",
    "   The observed proportion of correct guesses is 0.613, meaning 61.3% of the sampled STA130 students correctly identified whether milk or tea was poured first. This is higher than the 50% we would expect if students were guessing randomly.\n",
    "\n",
    "2. P-value:\n",
    "   The p-value of 0.0298 is less than the common significance level of 0.05. This suggests strong evidence against the null hypothesis. The p-value represents the probability of observing a result as extreme as or more extreme than our sample data, assuming the null hypothesis is true.\n",
    "\n",
    "3. Confidence Interval:\n",
    "   The 95% confidence interval (0.500, 0.713) provides a range of plausible values for the true population proportion. Notably, this interval just barely includes 0.5 (the lower bound is exactly 0.500).\n",
    "\n",
    "Conclusion regarding the Null Hypothesis:\n",
    "\n",
    "Based on our analysis, we reject the null hypothesis at the 0.05 significance level. There is statistically significant evidence to suggest that STA130 students can identify the pouring order of milk and tea better than random guessing.\n",
    "\n",
    "However, it's crucial to consider some important points:\n",
    "\n",
    "1. Statistical vs. Practical Significance: While our result is statistically significant (p < 0.05), the practical significance is less clear. The lower bound of the confidence interval (0.500) just touches 0.5, indicating that the true population proportion might be very close to random guessing.\n",
    "\n",
    "2. Margin of Error: The confidence interval suggests that the true proportion of students who can correctly identify the pouring order could be anywhere from 50.0% to 71.3%. This wide range includes values that are only slightly better than random guessing.\n",
    "\n",
    "3. Limitations:\n",
    "   - This experiment assumes all other factors are controlled (e.g., temperature of tea, type of milk, etc.).\n",
    "   - The results may not generalize beyond STA130 students.\n",
    "   - The sample size (80) is relatively small, which contributes to the wide confidence interval.\n",
    "\n",
    "4. Comparison to Original Experiment: Unlike Dr. Bristol's perfect score in Fisher's original experiment, our results show a more modest effect. This aligns with our expectation that testing a general population would yield different results than testing a single individual who claimed to have this ability.\n",
    "\n",
    "In conclusion, while we have statistical evidence to reject the null hypothesis, the practical implications of this result should be interpreted cautiously. The data suggests that STA130 students may have some ability to distinguish the order of pouring, but this ability might be quite limited. The wide confidence interval and the closeness of the lower bound to 0.5 indicate substantial uncertainty in the true proportion.\n",
    "\n",
    "For future research, we might consider:\n",
    "1. Increasing the sample size to narrow the confidence interval and potentially provide more conclusive results.\n",
    "2. Conducting repeated experiments to see if the results are consistent.\n",
    "3. Investigating factors that might influence a person's ability to distinguish the pouring order, such as tea drinking experience or sensory sensitivity.\n",
    "\n",
    "This experiment serves as an interesting modern adaptation of Fisher's classic test, demonstrating both the principles of hypothesis testing and the nuances involved in interpreting statistical results in real-world contexts.\n"
   ]
  },
  {
   "cell_type": "markdown",
   "id": "58e642c6",
   "metadata": {},
   "source": [
    "### Summary of ChatBot (not using ChatGPT, cannot get a link)\n",
    "\n",
    "Certainly! Here's a summary of what we discussed:\n",
    "\n",
    "1. Code Modification:\n",
    "   We modified the code from Demo II of Week 5 TUT to perform a one-sided (one-tailed) hypothesis test instead of a two-sided test. The main change was in the calculation of the p-value, where we now only consider simulated statistics greater than or equal to the observed statistic.\n",
    "\n",
    "2. Hypothesis Changes:\n",
    "   - Original null hypothesis (two-sided): \"The chance the vaccine improves patient health is 50%\"\n",
    "   - New null hypothesis (one-sided): \"The chance the vaccine improves patient health is less than or equal to 50%\"\n",
    "   - New alternative hypothesis: \"The chance the vaccine improves patient health is greater than 50%\"\n",
    "\n",
    "3. Interpretation Differences:\n",
    "   - Two-sided test: Looked for any difference from 50% chance of improvement\n",
    "   - One-sided test: Specifically tests if the chance of improvement is greater than 50%\n",
    "\n",
    "4. P-value Expectations:\n",
    "   - If the observed effect is in the hypothesized direction, the one-sided p-value is expected to be about half of the two-sided p-value.\n",
    "   - This is because the rejection region is concentrated on one side of the distribution rather than split between two tails.\n",
    "   - However, if the effect is in the opposite direction, the one-sided p-value could be much larger than the two-sided p-value.\n",
    "\n",
    "5. Test Selection Considerations:\n",
    "   - One-sided tests have more power to detect effects in the hypothesized direction.\n",
    "   - However, they cannot detect effects in the opposite direction.\n",
    "   - The choice between one-sided and two-sided tests should be based on the research question and prior knowledge, not on which gives a smaller p-value.\n",
    "\n",
    "6. Appropriateness of Test:\n",
    "   - One-sided test is more appropriate if there's a strong prior belief that the effect can only be in one direction.\n",
    "   - Two-sided test is more appropriate if we're open to effects in either direction.\n",
    "\n",
    "This change in approach demonstrates how the formulation of hypotheses and the choice of statistical test can impact the interpretation of results in scientific studies.\n",
    "\n",
    "Certainly. Here's a summary of our discussion about Fisher's Tea Experiment:\n",
    "\n",
    "1. Problem Introduction:\n",
    "   We analyzed a modern adaptation of Ronald Fisher's famous tea-tasting experiment. In our version, 80 STA130 students were tested on their ability to identify whether milk or tea was poured first in a cup.\n",
    "\n",
    "2. Hypotheses:\n",
    "   - Null Hypothesis (H₀): Students are guessing randomly (p = 0.5)\n",
    "   - Alternative Hypothesis (Hₐ): Students can identify the pouring order better than random guessing (p > 0.5)\n",
    "\n",
    "3. Results:\n",
    "   - 49 out of 80 students (61.3%) correctly identified the pouring order\n",
    "   - P-value: 0.0298\n",
    "   - 95% Confidence Interval: (0.500, 0.713)\n",
    "\n",
    "4. Analysis:\n",
    "   We used a simulation-based approach to calculate the p-value and confidence interval. The p-value (0.0298) is less than the 0.05 significance level, leading us to reject the null hypothesis.\n",
    "\n",
    "5. Conclusion:\n",
    "   While there is statistically significant evidence that STA130 students can identify the pouring order better than random guessing, the practical significance is less clear. The confidence interval barely excludes 0.5, indicating that the true ability might be only slightly better than random guessing.\n",
    "\n",
    "6. Limitations and Considerations:\n",
    "   - The sample size is relatively small, leading to a wide confidence interval\n",
    "   - Results may not generalize beyond STA130 students\n",
    "   - The practical importance of this ability is debatable\n",
    "\n",
    "7. Future Directions:\n",
    "   We suggested potential follow-up studies with larger sample sizes or investigations into factors that might influence this ability.\n",
    "\n",
    "This experiment demonstrates the principles of hypothesis testing while highlighting the nuances of interpreting statistical results in real-world contexts.\n"
   ]
  },
  {
   "cell_type": "markdown",
   "id": "3cfd8c90",
   "metadata": {},
   "source": [
    "### 9. Have you reviewed the course wiki-textbook and interacted with a ChatBot (or, if that wasn't sufficient, real people in the course piazza discussion board or TA office hours) to help you understand all the material in the tutorial and lecture that you didn't quite follow when you first saw it?"
   ]
  },
  {
   "cell_type": "markdown",
   "id": "52b59878",
   "metadata": {},
   "source": [
    "Yes."
   ]
  }
 ],
 "metadata": {
  "kernelspec": {
   "display_name": "Python 3 (ipykernel)",
   "language": "python",
   "name": "python3"
  },
  "language_info": {
   "codemirror_mode": {
    "name": "ipython",
    "version": 3
   },
   "file_extension": ".py",
   "mimetype": "text/x-python",
   "name": "python",
   "nbconvert_exporter": "python",
   "pygments_lexer": "ipython3",
   "version": "3.11.6"
  }
 },
 "nbformat": 4,
 "nbformat_minor": 5
}
